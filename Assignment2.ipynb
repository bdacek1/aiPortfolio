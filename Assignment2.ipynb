{
 "cells": [
  {
   "cell_type": "code",
   "execution_count": 1,
   "id": "0354455e-e48f-4922-8e81-63ba878127bb",
   "metadata": {},
   "outputs": [],
   "source": [
    "import numpy as np \n",
    "import matplotlib.pyplot as plt \n",
    "import cv2 "
   ]
  },
  {
   "cell_type": "code",
   "execution_count": 2,
   "id": "93b20261-920d-4d72-861a-781a4afdeb96",
   "metadata": {},
   "outputs": [],
   "source": [
    "img1 = cv2.imread('BikePics/BikeShot1.jpg')\n",
    "img2 = cv2.imread('BikePics/BikeShot2.jpg')\n",
    "img3 = cv2.imread('BikePics/BikeShot3.jpg')\n",
    "img4 = cv2.imread('BikePics/BikeShot4.jpg')\n",
    "images = [img1, img2, img3, img4]"
   ]
  },
  {
   "cell_type": "code",
   "execution_count": 3,
   "id": "3d903b02-8d52-4b5f-b488-ab531735c43d",
   "metadata": {},
   "outputs": [],
   "source": [
    "def resize_image(image, new_height, new_width):\n",
    "    height, width = image.shape[0], image.shape[1]\n",
    "    new_img = cv2.resize(image, (new_height, new_width), interpolation = cv2.INTER_AREA)\n",
    "    return new_img"
   ]
  },
  {
   "cell_type": "code",
   "execution_count": 4,
   "id": "c549f307-fb4f-41fa-bc43-f3ace3cf8456",
   "metadata": {},
   "outputs": [],
   "source": [
    "def normalize_image(image):\n",
    "    height, width = image.shape[0], image.shape[1]\n",
    "    norm = np.zeros((height, width))\n",
    "    norm_image = cv2.normalize(image, None, alpha=0, beta=255, norm_type = cv2.NORM_MINMAX)\n",
    "    return norm_image"
   ]
  },
  {
   "cell_type": "code",
   "execution_count": 5,
   "id": "2890f059-5d51-4af9-b93a-03a8c9abd499",
   "metadata": {},
   "outputs": [],
   "source": [
    "for i in range(len(images)):\n",
    "    resized = resize_image(images[i], 425, 425)\n",
    "    normalized = normalize_image(resized)\n",
    "    cv2.imwrite(f\"ProcessedBikePics/BikeShot{i+1}.jpg\",normalized)\n",
    "    cv2.waitKey(1000)\n"
   ]
  },
  {
   "cell_type": "code",
   "execution_count": null,
   "id": "6546242f-4f0f-42cc-a974-77b8d202b3f2",
   "metadata": {},
   "outputs": [],
   "source": []
  }
 ],
 "metadata": {
  "kernelspec": {
   "display_name": "Python 3 (ipykernel)",
   "language": "python",
   "name": "python3"
  },
  "language_info": {
   "codemirror_mode": {
    "name": "ipython",
    "version": 3
   },
   "file_extension": ".py",
   "mimetype": "text/x-python",
   "name": "python",
   "nbconvert_exporter": "python",
   "pygments_lexer": "ipython3",
   "version": "3.8.13"
  }
 },
 "nbformat": 4,
 "nbformat_minor": 5
}
